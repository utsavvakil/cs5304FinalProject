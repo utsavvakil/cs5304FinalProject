{
 "cells": [
  {
   "cell_type": "code",
   "execution_count": 1,
   "metadata": {
    "collapsed": true,
    "deletable": true,
    "editable": true
   },
   "outputs": [],
   "source": [
    "import numpy as np\n",
    "import csv\n",
    "import matplotlib.pyplot as plt\n",
    "from sklearn.linear_model import LogisticRegression\n",
    "import pandas as pd\n",
    "import requests\n",
    "from lxml import html\n",
    "import time\n",
    "import wikipedia\n",
    "from lxml import etree\n",
    "import requests\n",
    "from bs4 import BeautifulSoup"
   ]
  },
  {
   "cell_type": "code",
   "execution_count": 2,
   "metadata": {
    "collapsed": true,
    "deletable": true,
    "editable": true
   },
   "outputs": [],
   "source": [
    "def read_csv(filename, file_type):\n",
    "    data = []\n",
    "    with open(filename, 'r') as csvfile:\n",
    "        csvreader = csv.reader(csvfile, delimiter='\\n')\n",
    "        curr = []\n",
    "        for line in csvreader:\n",
    "            try:\n",
    "                if file_type == 'companies':\n",
    "                    if line[0].startswith('c:'):\n",
    "                        if curr != []:\n",
    "                            data.append(curr)\n",
    "                        curr = line[0].split(';')\n",
    "                        for j in range(1,len(curr)):\n",
    "                            curr[j] = curr[j][1:-1]\n",
    "                    else:\n",
    "                        curr[-1] += ' ' + line[0].split(';')\n",
    "                else:\n",
    "                    curr = line[0].split(';')\n",
    "                    for j in range(1,len(curr)):\n",
    "                        curr[j] = curr[j][1:-1]\n",
    "                    data.append(curr)\n",
    "            except:\n",
    "                pass\n",
    "    if file_type != 'companies':\n",
    "        data.pop(0)\n",
    "    return data"
   ]
  },
  {
   "cell_type": "code",
   "execution_count": 3,
   "metadata": {
    "collapsed": true,
    "deletable": true,
    "editable": true
   },
   "outputs": [],
   "source": [
    "people = read_csv('./data/crunchbase_data/people.csv', 'people')\n",
    "degrees = read_csv('./data/crunchbase_data/degrees.csv', 'degrees')\n",
    "companies = read_csv('./data/crunchbase_data/objects.csv', 'companies')\n",
    "relationships = read_csv('./data/crunchbase_data/relationships.csv', 'relationships')\n",
    "milestones = read_csv('./data/crunchbase_data/milestone.csv', 'milestones')\n",
    "funding_rounds = read_csv('./data/crunchbase_data/funding_rounds.csv', 'funding_rounds')"
   ]
  },
  {
   "cell_type": "code",
   "execution_count": 4,
   "metadata": {
    "collapsed": false,
    "deletable": true,
    "editable": true
   },
   "outputs": [
    {
     "data": {
      "text/plain": [
       "(226709, 109610, 196553)"
      ]
     },
     "execution_count": 4,
     "metadata": {},
     "output_type": "execute_result"
    }
   ],
   "source": [
    "len(people), len(degrees), len(companies)"
   ]
  },
  {
   "cell_type": "code",
   "execution_count": 5,
   "metadata": {
    "collapsed": true,
    "deletable": true,
    "editable": true
   },
   "outputs": [],
   "source": [
    "companies_dict = {}\n",
    "for i in range(len(companies)):\n",
    "    if companies[i][0].startswith('c:'):\n",
    "        if companies[i][4] not in companies_dict:\n",
    "            companies_dict[companies[i][4]] = companies[i]"
   ]
  },
  {
   "cell_type": "code",
   "execution_count": 6,
   "metadata": {
    "collapsed": true,
    "deletable": true,
    "editable": true
   },
   "outputs": [],
   "source": [
    "unique_companies = {}\n",
    "for i in range(len(people)):\n",
    "    if people[i][-1].lower() not in unique_companies:\n",
    "        unique_companies[people[i][-1]] = 1"
   ]
  },
  {
   "cell_type": "code",
   "execution_count": 7,
   "metadata": {
    "collapsed": false,
    "deletable": true,
    "editable": true
   },
   "outputs": [
    {
     "data": {
      "text/plain": [
       "27227"
      ]
     },
     "execution_count": 7,
     "metadata": {},
     "output_type": "execute_result"
    }
   ],
   "source": [
    "len(unique_companies)"
   ]
  },
  {
   "cell_type": "code",
   "execution_count": 8,
   "metadata": {
    "collapsed": true,
    "deletable": true,
    "editable": true
   },
   "outputs": [],
   "source": [
    "id_to_degree = {}\n",
    "for i in range(len(degrees)):\n",
    "    try:\n",
    "        id_to_degree[degrees[i][1]] = degrees[i]\n",
    "    except:\n",
    "        pass"
   ]
  },
  {
   "cell_type": "code",
   "execution_count": 9,
   "metadata": {
    "collapsed": true,
    "deletable": true,
    "editable": true
   },
   "outputs": [],
   "source": [
    "company_to_id = {}\n",
    "for i in range(len(companies)):\n",
    "    try:\n",
    "        unique_companies[companies[i][4]]\n",
    "        company_to_id[companies[i][0]] = companies[i][4]\n",
    "    except:\n",
    "        pass"
   ]
  },
  {
   "cell_type": "code",
   "execution_count": 10,
   "metadata": {
    "collapsed": false,
    "deletable": true,
    "editable": true
   },
   "outputs": [
    {
     "data": {
      "text/plain": [
       "22906"
      ]
     },
     "execution_count": 10,
     "metadata": {},
     "output_type": "execute_result"
    }
   ],
   "source": [
    "len(company_to_id)"
   ]
  },
  {
   "cell_type": "code",
   "execution_count": 11,
   "metadata": {
    "collapsed": true,
    "deletable": true,
    "editable": true
   },
   "outputs": [],
   "source": [
    "funding_round_by_company = {}\n",
    "for i in range(len(funding_rounds)):\n",
    "    try:\n",
    "        company = company_to_id[funding_rounds[i][2]]\n",
    "        if company not in funding_round_by_company:\n",
    "            funding_round_by_company[company] = {}\n",
    "        funding_round_by_company[company][funding_rounds[i][4]] = float(funding_rounds[i][6])\n",
    "    except:\n",
    "        pass"
   ]
  },
  {
   "cell_type": "code",
   "execution_count": 12,
   "metadata": {
    "collapsed": true,
    "deletable": true,
    "editable": true
   },
   "outputs": [],
   "source": [
    "def duckduckgo_search(keywords, max_results=None):\n",
    "    url = 'https://duckduckgo.com/html/'\n",
    "    params = {\n",
    "        'q': keywords,\n",
    "        's': '0',\n",
    "    }\n",
    "\n",
    "    yielded = 0\n",
    "    while True:\n",
    "        res = requests.post(url, data=params)\n",
    "        doc = html.fromstring(res.text)\n",
    "\n",
    "        results = [a.get('href') for a in doc.cssselect('#links .links_main a')]\n",
    "        for result in results:\n",
    "            yield result\n",
    "            time.sleep(0.1)\n",
    "            yielded += 1\n",
    "            if max_results and yielded >= max_results:\n",
    "                return\n",
    "\n",
    "        try:\n",
    "            form = doc.cssselect('.results_links_more form')[-1]\n",
    "        except IndexError:\n",
    "            return\n",
    "        params = dict(form.fields)"
   ]
  },
  {
   "cell_type": "code",
   "execution_count": 14,
   "metadata": {
    "collapsed": true,
    "deletable": true,
    "editable": true
   },
   "outputs": [],
   "source": [
    "# USER_AGENT = {'User-Agent':'Mozilla/5.0 (Windows NT 10.0; Win64; x64) AppleWebKit/537.36 (KHTML, like Gecko) Chrome/61.0.3163.100 Safari/537.36'}\n",
    " \n",
    "# def fetch_results(search_term, number_results, language_code):\n",
    "#     assert isinstance(search_term, str), 'Search term must be a string'\n",
    "#     assert isinstance(number_results, int), 'Number of results must be an integer'\n",
    "#     escaped_search_term = search_term.replace(' ', '+')\n",
    " \n",
    "#     google_url = 'https://www.google.com/search?q={}&num={}&hl={}'.format(escaped_search_term, number_results, language_code)\n",
    "#     response = requests.get(google_url, headers=USER_AGENT)\n",
    "#     response.raise_for_status()\n",
    " \n",
    "#     return search_term, response.text"
   ]
  },
  {
   "cell_type": "code",
   "execution_count": 15,
   "metadata": {
    "collapsed": true,
    "deletable": true,
    "editable": true
   },
   "outputs": [],
   "source": [
    "# def parse_results(html, keyword):\n",
    "#     soup = BeautifulSoup(html, 'html.parser')\n",
    " \n",
    "#     found_results = []\n",
    "#     rank = 1\n",
    "#     result_block = soup.find_all('div', attrs={'class': 'g'})\n",
    "#     for result in result_block:\n",
    " \n",
    "#         link = result.find('a', href=True)\n",
    "#         title = result.find('h3', attrs={'class': 'r'})\n",
    "#         description = result.find('span', attrs={'class': 'st'})\n",
    "#         if link and title:\n",
    "#             link = link['href']\n",
    "#             title = title.get_text()\n",
    "#             if description:\n",
    "#                 description = description.get_text()\n",
    "#             if link != '#':\n",
    "#                 found_results.append(link)\n",
    "#                 rank += 1\n",
    "#     return found_results"
   ]
  },
  {
   "cell_type": "code",
   "execution_count": 16,
   "metadata": {
    "collapsed": true,
    "deletable": true,
    "editable": true
   },
   "outputs": [],
   "source": [
    "# def scrape_google(search_term, number_results, language_code):\n",
    "#     try:\n",
    "#         keyword, html = fetch_results(search_term, number_results, language_code)\n",
    "#         results = parse_results(html, keyword)\n",
    "#         return results\n",
    "#     except AssertionError:\n",
    "#         raise Exception(\"Incorrect arguments parsed to function\")\n",
    "#     except requests.HTTPError:\n",
    "#         raise Exception(\"You appear to have been blocked by Google\")\n",
    "#     except requests.RequestException:\n",
    "#         raise Exception(\"Appears to be an issue with your connection\")"
   ]
  },
  {
   "cell_type": "code",
   "execution_count": 17,
   "metadata": {
    "collapsed": true,
    "deletable": true,
    "editable": true
   },
   "outputs": [],
   "source": [
    "def get_revenue_wiki(url):\n",
    "    if ' ' in url:\n",
    "        url = url.replace(' ', '_')\n",
    "        url += '_(company)'\n",
    "\n",
    "    html = requests.get(url)\n",
    "\n",
    "    #turn the HTML into a beautiful soup text object\n",
    "    b = BeautifulSoup(html.text, 'html.parser')\n",
    "    tables = b.findAll(\"table\", { \"class\" : \"infobox vcard\" })\n",
    "\n",
    "    text_tables = []\n",
    "    for table in tables:\n",
    "        text_tables.append(table.text)\n",
    "\n",
    "    table_list = text_tables[0].split('\\n')\n",
    "    table_list = [x for x in table_list if x != '']\n",
    "    return table_list"
   ]
  },
  {
   "cell_type": "code",
   "execution_count": 18,
   "metadata": {
    "collapsed": true,
    "deletable": true,
    "editable": true,
    "scrolled": true
   },
   "outputs": [],
   "source": [
    "revenue = {}\n",
    "\n",
    "for company in unique_companies:\n",
    "    if len(revenue) == 100:\n",
    "        break\n",
    "    try:\n",
    "        query = companies_dict[company][11] + ' wikipedia'\n",
    "        for link in duckduckgo_search(query, max_results=10):\n",
    "            if 'wikipedia.org' in link:\n",
    "                print(link)\n",
    "                print(company)\n",
    "                revenue[company] = get_revenue_wiki(link)\n",
    "                print(revenue[company])\n",
    "                break\n",
    "    except:\n",
    "        pass"
   ]
  },
  {
   "cell_type": "code",
   "execution_count": 19,
   "metadata": {
    "collapsed": true,
    "deletable": true,
    "editable": true
   },
   "outputs": [],
   "source": [
    "# wikipedia_pages = {}\n",
    "\n",
    "# for company in unique_companies:\n",
    "#     if len(wikipedia_pages) == 10:\n",
    "#         break\n",
    "#     try:\n",
    "#         query = companies_dict[company][13]\n",
    "#         for link in duckduckgo_search(query, max_results=10):\n",
    "#             print(link)\n",
    "#             if 'wikipedia' in link:\n",
    "#                 wikipedia_pages[company] = link\n",
    "#                 break\n",
    "#     except:\n",
    "#         pass"
   ]
  },
  {
   "cell_type": "code",
   "execution_count": 20,
   "metadata": {
    "collapsed": true,
    "deletable": true,
    "editable": true
   },
   "outputs": [],
   "source": [
    "# net_incomes = {}\n",
    "# for company in wikipedia_pages:\n",
    "#     net_incomes.append(get_income_wiki(wikipedia_pages[company]))"
   ]
  },
  {
   "cell_type": "code",
   "execution_count": 21,
   "metadata": {
    "collapsed": true,
    "deletable": true,
    "editable": true
   },
   "outputs": [],
   "source": [
    "founders = {}\n",
    "for i in range(len(people)):\n",
    "    full_name = people[i][2] + ' ' + people[i][3]\n",
    "    if full_name in founders and founders[full_name]['id'] == people[i][1]:\n",
    "        continue\n",
    "    else:\n",
    "        founders[full_name] = {}\n",
    "        founders[full_name]['id'] = people[i][1]\n",
    "        founders[full_name]['company'] = people[i][-1]\n",
    "\n",
    "        try:\n",
    "            founders[full_name]['company_id'] = companies_dict[people[i][-1]][0]\n",
    "        except:\n",
    "            founders[full_name]['company_id'] = []\n",
    "        \n",
    "        try:\n",
    "            founders[full_name]['venture_round'] = funding_round_by_company[people[i][-1]]\n",
    "        except:\n",
    "            founders[full_name]['venture_round'] = []\n",
    "\n",
    "        try:\n",
    "            degree = id_to_degree[people[i][1]]\n",
    "            founders[full_name]['degree'] = degree[2]\n",
    "            founders[full_name]['majors'] = degree[3]\n",
    "            founders[full_name]['school'] = degree[4]\n",
    "        except:\n",
    "            founders[full_name]['degree'] = []\n",
    "            founders[full_name]['majors'] = []\n",
    "            founders[full_name]['school'] = []"
   ]
  },
  {
   "cell_type": "code",
   "execution_count": 22,
   "metadata": {
    "collapsed": false,
    "deletable": true,
    "editable": true
   },
   "outputs": [
    {
     "name": "stdout",
     "output_type": "stream",
     "text": [
      "{'id': 'p:2', 'company': 'Blue Nile', 'company_id': 'c:4993', 'venture_round': {'series-c+': 0.0, 'series-b': 2000000.0}, 'degree': 'BS', 'majors': 'Applied Mathematics', 'school': 'University of California, Berkeley'}\n",
      "{'id': 'p:3', 'company': 'Wetpaint', 'company_id': 'c:1', 'venture_round': {'series-a': 250000.0, 'series-b': 500000.0, 'series-c+': 5000000.0}, 'degree': 'MBA', 'majors': '', 'school': 'Indiana University'}\n",
      "{'id': 'p:60744', 'company': 'Unaffiliated', 'company_id': [], 'venture_round': [], 'degree': [], 'majors': [], 'school': []}\n",
      "{'id': 'p:5', 'company': 'Zoho', 'company_id': 'c:3', 'venture_round': [], 'degree': 'BS', 'majors': 'Biology, Psychology', 'school': 'McGill University'}\n",
      "{'id': 'p:6', 'company': 'i/o Ventures', 'company_id': 'c:16441', 'venture_round': [], 'degree': '', 'majors': '', 'school': 'Montessori'}\n",
      "{'id': 'p:7', 'company': 'Digg', 'company_id': 'c:4', 'venture_round': {'series-b': 500000.0, 'series-a': 800000.0, 'series-c+': 0.0}, 'degree': '', 'majors': 'Film and Broadcasting, Computer Science Concentration', 'school': 'Boston University'}\n",
      "{'id': 'p:8', 'company': 'Digg', 'company_id': 'c:4', 'venture_round': {'series-b': 500000.0, 'series-a': 800000.0, 'series-c+': 0.0}, 'degree': 'MBA', 'majors': 'Business', 'school': 'Dalhousie (Canada)'}\n",
      "{'id': 'p:9', 'company': 'Digg', 'company_id': 'c:4', 'venture_round': {'series-b': 500000.0, 'series-a': 800000.0, 'series-c+': 0.0}, 'degree': '', 'majors': 'Computer Engineering', 'school': 'University of California, San Diego (UCSD)'}\n",
      "{'id': 'p:10', 'company': 'Facebook', 'company_id': 'c:5', 'venture_round': {'angel': 0.0, 'series-a': 2700000.0, 'series-b': 7500000.0, 'series-c+': 0.0, 'other': 0.0, 'venture': 500000000.0}, 'degree': '', 'majors': 'Computer Science', 'school': 'Harvard University'}\n",
      "{'id': 'p:11', 'company': 'Facebook', 'company_id': 'c:5', 'venture_round': {'angel': 0.0, 'series-a': 2700000.0, 'series-b': 7500000.0, 'series-c+': 0.0, 'other': 0.0, 'venture': 500000000.0}, 'degree': 'No degree', 'majors': '', 'school': 'Harvard University'}\n"
     ]
    }
   ],
   "source": [
    "count = 0\n",
    "for person in founders:\n",
    "    print(founders[person])\n",
    "    count += 1\n",
    "    if count == 10:\n",
    "        break"
   ]
  },
  {
   "cell_type": "code",
   "execution_count": 23,
   "metadata": {
    "collapsed": true,
    "deletable": true,
    "editable": true
   },
   "outputs": [],
   "source": [
    "company_founders = {}\n",
    "for founder in founders:\n",
    "    if founders[founder]['company'] not in company_founders:\n",
    "        company_founders[founders[founder]['company']] = {}\n",
    "        company_founders[founders[founder]['company']][founder] = founders[founder]\n",
    "    elif founders[founder]['company'] in company_founders:\n",
    "        company_founders[founders[founder]['company']][founder] = founders[founder]"
   ]
  },
  {
   "cell_type": "code",
   "execution_count": 24,
   "metadata": {
    "collapsed": false,
    "deletable": true,
    "editable": true,
    "scrolled": true
   },
   "outputs": [
    {
     "data": {
      "text/plain": [
       "{\"Adam D'Angelo\": {'company': 'Facebook',\n",
       "  'company_id': 'c:5',\n",
       "  'degree': 'BS',\n",
       "  'id': 'p:1531',\n",
       "  'majors': 'Computer Science',\n",
       "  'school': 'California Institute of Technology',\n",
       "  'venture_round': {'angel': 0.0,\n",
       "   'other': 0.0,\n",
       "   'series-a': 2700000.0,\n",
       "   'series-b': 7500000.0,\n",
       "   'series-c+': 0.0,\n",
       "   'venture': 500000000.0}},\n",
       " 'Adam Marchick': {'company': 'Facebook',\n",
       "  'company_id': 'c:5',\n",
       "  'degree': 'BS',\n",
       "  'id': 'p:106199',\n",
       "  'majors': 'Computer Science',\n",
       "  'school': 'Stanford University',\n",
       "  'venture_round': {'angel': 0.0,\n",
       "   'other': 0.0,\n",
       "   'series-a': 2700000.0,\n",
       "   'series-b': 7500000.0,\n",
       "   'series-c+': 0.0,\n",
       "   'venture': 500000000.0}},\n",
       " 'Adam Michela': {'company': 'Facebook',\n",
       "  'company_id': 'c:5',\n",
       "  'degree': [],\n",
       "  'id': 'p:184928',\n",
       "  'majors': [],\n",
       "  'school': [],\n",
       "  'venture_round': {'angel': 0.0,\n",
       "   'other': 0.0,\n",
       "   'series-a': 2700000.0,\n",
       "   'series-b': 7500000.0,\n",
       "   'series-c+': 0.0,\n",
       "   'venture': 500000000.0}},\n",
       " 'Alison Rosenthal': {'company': 'Facebook',\n",
       "  'company_id': 'c:5',\n",
       "  'degree': 'BA',\n",
       "  'id': 'p:127140',\n",
       "  'majors': '',\n",
       "  'school': 'Brown University',\n",
       "  'venture_round': {'angel': 0.0,\n",
       "   'other': 0.0,\n",
       "   'series-a': 2700000.0,\n",
       "   'series-b': 7500000.0,\n",
       "   'series-c+': 0.0,\n",
       "   'venture': 500000000.0}},\n",
       " 'Andrew Bosworth': {'company': 'Facebook',\n",
       "  'company_id': 'c:5',\n",
       "  'degree': 'BA',\n",
       "  'id': 'p:52929',\n",
       "  'majors': 'Computer Science',\n",
       "  'school': 'Harvard University',\n",
       "  'venture_round': {'angel': 0.0,\n",
       "   'other': 0.0,\n",
       "   'series-a': 2700000.0,\n",
       "   'series-b': 7500000.0,\n",
       "   'series-c+': 0.0,\n",
       "   'venture': 500000000.0}},\n",
       " 'Ari Steinberg': {'company': 'Facebook',\n",
       "  'company_id': 'c:5',\n",
       "  'degree': 'BS',\n",
       "  'id': 'p:58157',\n",
       "  'majors': 'Computer Science',\n",
       "  'school': 'Stanford University',\n",
       "  'venture_round': {'angel': 0.0,\n",
       "   'other': 0.0,\n",
       "   'series-a': 2700000.0,\n",
       "   'series-b': 7500000.0,\n",
       "   'series-c+': 0.0,\n",
       "   'venture': 500000000.0}},\n",
       " 'Ashlie Beringer': {'company': 'Facebook',\n",
       "  'company_id': 'c:5',\n",
       "  'degree': [],\n",
       "  'id': 'p:238489',\n",
       "  'majors': [],\n",
       "  'school': [],\n",
       "  'venture_round': {'angel': 0.0,\n",
       "   'other': 0.0,\n",
       "   'series-a': 2700000.0,\n",
       "   'series-b': 7500000.0,\n",
       "   'series-c+': 0.0,\n",
       "   'venture': 500000000.0}},\n",
       " 'Beau Hartshorne': {'company': 'Facebook',\n",
       "  'company_id': 'c:5',\n",
       "  'degree': [],\n",
       "  'id': 'p:54626',\n",
       "  'majors': [],\n",
       "  'school': [],\n",
       "  'venture_round': {'angel': 0.0,\n",
       "   'other': 0.0,\n",
       "   'series-a': 2700000.0,\n",
       "   'series-b': 7500000.0,\n",
       "   'series-c+': 0.0,\n",
       "   'venture': 500000000.0}},\n",
       " 'Benjamin Joe': {'company': 'Facebook',\n",
       "  'company_id': 'c:5',\n",
       "  'degree': 'MBA',\n",
       "  'id': 'p:64734',\n",
       "  'majors': 'Business',\n",
       "  'school': 'Harvard Business School',\n",
       "  'venture_round': {'angel': 0.0,\n",
       "   'other': 0.0,\n",
       "   'series-a': 2700000.0,\n",
       "   'series-b': 7500000.0,\n",
       "   'series-c+': 0.0,\n",
       "   'venture': 500000000.0}},\n",
       " 'Brandon Sayles': {'company': 'Facebook',\n",
       "  'company_id': 'c:5',\n",
       "  'degree': 'Computer Engineering (HarDwarE &',\n",
       "  'id': 'p:125183',\n",
       "  'majors': 'All in degree',\n",
       "  'school': 'National Institute of Technology Raipur',\n",
       "  'venture_round': {'angel': 0.0,\n",
       "   'other': 0.0,\n",
       "   'series-a': 2700000.0,\n",
       "   'series-b': 7500000.0,\n",
       "   'series-c+': 0.0,\n",
       "   'venture': 500000000.0}},\n",
       " 'Carolyn Everson': {'company': 'Facebook',\n",
       "  'company_id': 'c:5',\n",
       "  'degree': 'BA',\n",
       "  'id': 'p:91903',\n",
       "  'majors': 'Communications',\n",
       "  'school': 'Villanova',\n",
       "  'venture_round': {'angel': 0.0,\n",
       "   'other': 0.0,\n",
       "   'series-a': 2700000.0,\n",
       "   'series-b': 7500000.0,\n",
       "   'series-c+': 0.0,\n",
       "   'venture': 500000000.0}},\n",
       " 'Chad Little': {'company': 'Facebook',\n",
       "  'company_id': 'c:5',\n",
       "  'degree': [],\n",
       "  'id': 'p:187663',\n",
       "  'majors': [],\n",
       "  'school': [],\n",
       "  'venture_round': {'angel': 0.0,\n",
       "   'other': 0.0,\n",
       "   'series-a': 2700000.0,\n",
       "   'series-b': 7500000.0,\n",
       "   'series-c+': 0.0,\n",
       "   'venture': 500000000.0}},\n",
       " 'Christian Hernandez': {'company': 'Facebook',\n",
       "  'company_id': 'c:5',\n",
       "  'degree': 'MBA',\n",
       "  'id': 'p:73760',\n",
       "  'majors': 'Entrepreneurship',\n",
       "  'school': 'The Wharton School',\n",
       "  'venture_round': {'angel': 0.0,\n",
       "   'other': 0.0,\n",
       "   'series-a': 2700000.0,\n",
       "   'series-b': 7500000.0,\n",
       "   'series-c+': 0.0,\n",
       "   'venture': 500000000.0}},\n",
       " 'Colin Stretch': {'company': 'Facebook',\n",
       "  'company_id': 'c:5',\n",
       "  'degree': 'JD',\n",
       "  'id': 'p:235113',\n",
       "  'majors': '',\n",
       "  'school': 'Harvard',\n",
       "  'venture_round': {'angel': 0.0,\n",
       "   'other': 0.0,\n",
       "   'series-a': 2700000.0,\n",
       "   'series-b': 7500000.0,\n",
       "   'series-c+': 0.0,\n",
       "   'venture': 500000000.0}},\n",
       " 'David Breger': {'company': 'Facebook',\n",
       "  'company_id': 'c:5',\n",
       "  'degree': 'MBA',\n",
       "  'id': 'p:176548',\n",
       "  'majors': '',\n",
       "  'school': 'University of California, Berkeley, Walter A. Haas School of Bus',\n",
       "  'venture_round': {'angel': 0.0,\n",
       "   'other': 0.0,\n",
       "   'series-a': 2700000.0,\n",
       "   'series-b': 7500000.0,\n",
       "   'series-c+': 0.0,\n",
       "   'venture': 500000000.0}},\n",
       " 'David Ebersman': {'company': 'Facebook',\n",
       "  'company_id': 'c:5',\n",
       "  'degree': 'BA',\n",
       "  'id': 'p:37322',\n",
       "  'majors': 'Economics and International Relations',\n",
       "  'school': 'Brown University',\n",
       "  'venture_round': {'angel': 0.0,\n",
       "   'other': 0.0,\n",
       "   'series-a': 2700000.0,\n",
       "   'series-b': 7500000.0,\n",
       "   'series-c+': 0.0,\n",
       "   'venture': 500000000.0}},\n",
       " 'David Fischer': {'company': 'Facebook',\n",
       "  'company_id': 'c:5',\n",
       "  'degree': [],\n",
       "  'id': 'p:76432',\n",
       "  'majors': [],\n",
       "  'school': [],\n",
       "  'venture_round': {'angel': 0.0,\n",
       "   'other': 0.0,\n",
       "   'series-a': 2700000.0,\n",
       "   'series-b': 7500000.0,\n",
       "   'series-c+': 0.0,\n",
       "   'venture': 500000000.0}},\n",
       " 'Diego Oliva': {'company': 'Facebook',\n",
       "  'company_id': 'c:5',\n",
       "  'degree': 'MS',\n",
       "  'id': 'p:208085',\n",
       "  'majors': 'Economics',\n",
       "  'school': 'Stockholm University',\n",
       "  'venture_round': {'angel': 0.0,\n",
       "   'other': 0.0,\n",
       "   'series-a': 2700000.0,\n",
       "   'series-b': 7500000.0,\n",
       "   'series-c+': 0.0,\n",
       "   'venture': 500000000.0}},\n",
       " 'Doug Hirsch': {'company': 'Facebook',\n",
       "  'company_id': 'c:5',\n",
       "  'degree': 'BA',\n",
       "  'id': 'p:30657',\n",
       "  'majors': 'Political Science',\n",
       "  'school': 'Tufts University',\n",
       "  'venture_round': {'angel': 0.0,\n",
       "   'other': 0.0,\n",
       "   'series-a': 2700000.0,\n",
       "   'series-b': 7500000.0,\n",
       "   'series-c+': 0.0,\n",
       "   'venture': 500000000.0}},\n",
       " 'Dustin Moskovitz': {'company': 'Facebook',\n",
       "  'company_id': 'c:5',\n",
       "  'degree': 'No degree',\n",
       "  'id': 'p:11',\n",
       "  'majors': '',\n",
       "  'school': 'Harvard University',\n",
       "  'venture_round': {'angel': 0.0,\n",
       "   'other': 0.0,\n",
       "   'series-a': 2700000.0,\n",
       "   'series-b': 7500000.0,\n",
       "   'series-c+': 0.0,\n",
       "   'venture': 500000000.0}},\n",
       " 'Emily Grewal': {'company': 'Facebook',\n",
       "  'company_id': 'c:5',\n",
       "  'degree': 'BA',\n",
       "  'id': 'p:150087',\n",
       "  'majors': 'Economics',\n",
       "  'school': 'Stanford University',\n",
       "  'venture_round': {'angel': 0.0,\n",
       "   'other': 0.0,\n",
       "   'series-a': 2700000.0,\n",
       "   'series-b': 7500000.0,\n",
       "   'series-c+': 0.0,\n",
       "   'venture': 500000000.0}},\n",
       " 'Erick Tseng': {'company': 'Facebook',\n",
       "  'company_id': 'c:5',\n",
       "  'degree': 'BS',\n",
       "  'id': 'p:59449',\n",
       "  'majors': 'Computer Science & Electrical Engineering',\n",
       "  'school': 'Massachusetts Institute of Technology (MIT)',\n",
       "  'venture_round': {'angel': 0.0,\n",
       "   'other': 0.0,\n",
       "   'series-a': 2700000.0,\n",
       "   'series-b': 7500000.0,\n",
       "   'series-c+': 0.0,\n",
       "   'venture': 500000000.0}},\n",
       " 'Eugene Letuchy': {'company': 'Facebook',\n",
       "  'company_id': 'c:5',\n",
       "  'degree': [],\n",
       "  'id': 'p:70727',\n",
       "  'majors': [],\n",
       "  'school': [],\n",
       "  'venture_round': {'angel': 0.0,\n",
       "   'other': 0.0,\n",
       "   'series-a': 2700000.0,\n",
       "   'series-b': 7500000.0,\n",
       "   'series-c+': 0.0,\n",
       "   'venture': 500000000.0}},\n",
       " 'Gareth Davis': {'company': 'Facebook',\n",
       "  'company_id': 'c:5',\n",
       "  'degree': [],\n",
       "  'id': 'p:36866',\n",
       "  'majors': [],\n",
       "  'school': [],\n",
       "  'venture_round': {'angel': 0.0,\n",
       "   'other': 0.0,\n",
       "   'series-a': 2700000.0,\n",
       "   'series-b': 7500000.0,\n",
       "   'series-c+': 0.0,\n",
       "   'venture': 500000000.0}},\n",
       " 'Ime Archibong': {'company': 'Facebook',\n",
       "  'company_id': 'c:5',\n",
       "  'degree': 'BS',\n",
       "  'id': 'p:176235',\n",
       "  'majors': 'Electrical Engineering and Computer Science',\n",
       "  'school': 'Yale University',\n",
       "  'venture_round': {'angel': 0.0,\n",
       "   'other': 0.0,\n",
       "   'series-a': 2700000.0,\n",
       "   'series-b': 7500000.0,\n",
       "   'series-c+': 0.0,\n",
       "   'venture': 500000000.0}},\n",
       " 'Jimmy Zhu': {'company': 'Facebook',\n",
       "  'company_id': 'c:5',\n",
       "  'degree': 'S.B.',\n",
       "  'id': 'p:108814',\n",
       "  'majors': 'Management Science, Math',\n",
       "  'school': 'Massachusetts Institute of Technology (MIT)',\n",
       "  'venture_round': {'angel': 0.0,\n",
       "   'other': 0.0,\n",
       "   'series-a': 2700000.0,\n",
       "   'series-b': 7500000.0,\n",
       "   'series-c+': 0.0,\n",
       "   'venture': 500000000.0}},\n",
       " 'Joe Hewitt': {'company': 'Facebook',\n",
       "  'company_id': 'c:5',\n",
       "  'degree': '',\n",
       "  'id': 'p:814',\n",
       "  'majors': '',\n",
       "  'school': 'Bridgewater-Raritan High School',\n",
       "  'venture_round': {'angel': 0.0,\n",
       "   'other': 0.0,\n",
       "   'series-a': 2700000.0,\n",
       "   'series-b': 7500000.0,\n",
       "   'series-c+': 0.0,\n",
       "   'venture': 500000000.0}},\n",
       " 'Josh Elman': {'company': 'Facebook',\n",
       "  'company_id': 'c:5',\n",
       "  'degree': 'BS',\n",
       "  'id': 'p:44625',\n",
       "  'majors': 'Symbolic Systems',\n",
       "  'school': 'Stanford University',\n",
       "  'venture_round': {'angel': 0.0,\n",
       "   'other': 0.0,\n",
       "   'series-a': 2700000.0,\n",
       "   'series-b': 7500000.0,\n",
       "   'series-c+': 0.0,\n",
       "   'venture': 500000000.0}},\n",
       " 'Justin Osofsky': {'company': 'Facebook',\n",
       "  'company_id': 'c:5',\n",
       "  'degree': 'MBA',\n",
       "  'id': 'p:42110',\n",
       "  'majors': 'Business',\n",
       "  'school': 'Harvard Business School',\n",
       "  'venture_round': {'angel': 0.0,\n",
       "   'other': 0.0,\n",
       "   'series-a': 2700000.0,\n",
       "   'series-b': 7500000.0,\n",
       "   'series-c+': 0.0,\n",
       "   'venture': 500000000.0}},\n",
       " 'Katherine Losse': {'company': 'Facebook',\n",
       "  'company_id': 'c:5',\n",
       "  'degree': [],\n",
       "  'id': 'p:146969',\n",
       "  'majors': [],\n",
       "  'school': [],\n",
       "  'venture_round': {'angel': 0.0,\n",
       "   'other': 0.0,\n",
       "   'series-a': 2700000.0,\n",
       "   'series-b': 7500000.0,\n",
       "   'series-c+': 0.0,\n",
       "   'venture': 500000000.0}},\n",
       " 'Kelly Hansen': {'company': 'Facebook',\n",
       "  'company_id': 'c:5',\n",
       "  'degree': [],\n",
       "  'id': 'p:51088',\n",
       "  'majors': [],\n",
       "  'school': [],\n",
       "  'venture_round': {'angel': 0.0,\n",
       "   'other': 0.0,\n",
       "   'series-a': 2700000.0,\n",
       "   'series-b': 7500000.0,\n",
       "   'series-c+': 0.0,\n",
       "   'venture': 500000000.0}},\n",
       " 'Kent Schoen': {'company': 'Facebook',\n",
       "  'company_id': 'c:5',\n",
       "  'degree': 'BS',\n",
       "  'id': 'p:15301',\n",
       "  'majors': 'Economics',\n",
       "  'school': 'University of California, Los Angeles (UCLA)',\n",
       "  'venture_round': {'angel': 0.0,\n",
       "   'other': 0.0,\n",
       "   'series-a': 2700000.0,\n",
       "   'series-b': 7500000.0,\n",
       "   'series-c+': 0.0,\n",
       "   'venture': 500000000.0}},\n",
       " 'Li Ka-shing': {'company': 'Facebook',\n",
       "  'company_id': 'c:5',\n",
       "  'degree': [],\n",
       "  'id': 'p:3789',\n",
       "  'majors': [],\n",
       "  'school': [],\n",
       "  'venture_round': {'angel': 0.0,\n",
       "   'other': 0.0,\n",
       "   'series-a': 2700000.0,\n",
       "   'series-b': 7500000.0,\n",
       "   'series-c+': 0.0,\n",
       "   'venture': 500000000.0}},\n",
       " 'Lukasz Wiecek': {'company': 'Facebook',\n",
       "  'company_id': 'c:5',\n",
       "  'degree': 'BS',\n",
       "  'id': 'p:170167',\n",
       "  'majors': 'Computer Science',\n",
       "  'school': 'University of Warsaw',\n",
       "  'venture_round': {'angel': 0.0,\n",
       "   'other': 0.0,\n",
       "   'series-a': 2700000.0,\n",
       "   'series-b': 7500000.0,\n",
       "   'series-c+': 0.0,\n",
       "   'venture': 500000000.0}},\n",
       " 'Makinde Adeagbo': {'company': 'Facebook',\n",
       "  'company_id': 'c:5',\n",
       "  'degree': 'BS',\n",
       "  'id': 'p:135182',\n",
       "  'majors': 'Computer Science',\n",
       "  'school': 'Massachusetts Institute of Technology (MIT)',\n",
       "  'venture_round': {'angel': 0.0,\n",
       "   'other': 0.0,\n",
       "   'series-a': 2700000.0,\n",
       "   'series-b': 7500000.0,\n",
       "   'series-c+': 0.0,\n",
       "   'venture': 500000000.0}},\n",
       " 'Mark Zuckerberg': {'company': 'Facebook',\n",
       "  'company_id': 'c:5',\n",
       "  'degree': '',\n",
       "  'id': 'p:10',\n",
       "  'majors': 'Computer Science',\n",
       "  'school': 'Harvard University',\n",
       "  'venture_round': {'angel': 0.0,\n",
       "   'other': 0.0,\n",
       "   'series-a': 2700000.0,\n",
       "   'series-b': 7500000.0,\n",
       "   'series-c+': 0.0,\n",
       "   'venture': 500000000.0}},\n",
       " 'Michael Brown': {'company': 'Facebook',\n",
       "  'company_id': 'c:5',\n",
       "  'degree': [],\n",
       "  'id': 'p:68256',\n",
       "  'majors': [],\n",
       "  'school': [],\n",
       "  'venture_round': {'angel': 0.0,\n",
       "   'other': 0.0,\n",
       "   'series-a': 2700000.0,\n",
       "   'series-b': 7500000.0,\n",
       "   'series-c+': 0.0,\n",
       "   'venture': 500000000.0}},\n",
       " 'Miriam Grut Norrby': {'company': 'Facebook',\n",
       "  'company_id': 'c:5',\n",
       "  'degree': [],\n",
       "  'id': 'p:253543',\n",
       "  'majors': [],\n",
       "  'school': [],\n",
       "  'venture_round': {'angel': 0.0,\n",
       "   'other': 0.0,\n",
       "   'series-a': 2700000.0,\n",
       "   'series-b': 7500000.0,\n",
       "   'series-c+': 0.0,\n",
       "   'venture': 500000000.0}},\n",
       " 'Monica Keller': {'company': 'Facebook',\n",
       "  'company_id': 'c:5',\n",
       "  'degree': [],\n",
       "  'id': 'p:52684',\n",
       "  'majors': [],\n",
       "  'school': [],\n",
       "  'venture_round': {'angel': 0.0,\n",
       "   'other': 0.0,\n",
       "   'series-a': 2700000.0,\n",
       "   'series-b': 7500000.0,\n",
       "   'series-c+': 0.0,\n",
       "   'venture': 500000000.0}},\n",
       " 'Noah Kagan': {'company': 'Facebook',\n",
       "  'company_id': 'c:5',\n",
       "  'degree': 'BS',\n",
       "  'id': 'p:20760',\n",
       "  'majors': 'Business Administration, Economics',\n",
       "  'school': 'University of California, Berkeley',\n",
       "  'venture_round': {'angel': 0.0,\n",
       "   'other': 0.0,\n",
       "   'series-a': 2700000.0,\n",
       "   'series-b': 7500000.0,\n",
       "   'series-c+': 0.0,\n",
       "   'venture': 500000000.0}},\n",
       " 'Pedram Keyani': {'company': 'Facebook',\n",
       "  'company_id': 'c:5',\n",
       "  'degree': '',\n",
       "  'id': 'p:58329',\n",
       "  'majors': 'Computer Science',\n",
       "  'school': 'Stanford University',\n",
       "  'venture_round': {'angel': 0.0,\n",
       "   'other': 0.0,\n",
       "   'series-a': 2700000.0,\n",
       "   'series-b': 7500000.0,\n",
       "   'series-c+': 0.0,\n",
       "   'venture': 500000000.0}},\n",
       " 'Peter Yewell': {'company': 'Facebook',\n",
       "  'company_id': 'c:5',\n",
       "  'degree': 'BS',\n",
       "  'id': 'p:200637',\n",
       "  'majors': 'Electrical Engineering, Computer Engineering',\n",
       "  'school': 'University of Missouri',\n",
       "  'venture_round': {'angel': 0.0,\n",
       "   'other': 0.0,\n",
       "   'series-a': 2700000.0,\n",
       "   'series-b': 7500000.0,\n",
       "   'series-c+': 0.0,\n",
       "   'venture': 500000000.0}},\n",
       " 'Phil Fung': {'company': 'Facebook',\n",
       "  'company_id': 'c:5',\n",
       "  'degree': '',\n",
       "  'id': 'p:181382',\n",
       "  'majors': '',\n",
       "  'school': 'Stanford University',\n",
       "  'venture_round': {'angel': 0.0,\n",
       "   'other': 0.0,\n",
       "   'series-a': 2700000.0,\n",
       "   'series-b': 7500000.0,\n",
       "   'series-c+': 0.0,\n",
       "   'venture': 500000000.0}},\n",
       " 'Randi Zuckerberg': {'company': 'Facebook',\n",
       "  'company_id': 'c:5',\n",
       "  'degree': 'BA',\n",
       "  'id': 'p:27818',\n",
       "  'majors': '',\n",
       "  'school': 'Harvard University',\n",
       "  'venture_round': {'angel': 0.0,\n",
       "   'other': 0.0,\n",
       "   'series-a': 2700000.0,\n",
       "   'series-b': 7500000.0,\n",
       "   'series-c+': 0.0,\n",
       "   'venture': 500000000.0}},\n",
       " 'Robert Carlton Johnson': {'company': 'Facebook',\n",
       "  'company_id': 'c:5',\n",
       "  'degree': 'BS',\n",
       "  'id': 'p:58417',\n",
       "  'majors': 'Engineering',\n",
       "  'school': 'California Institute of Technology',\n",
       "  'venture_round': {'angel': 0.0,\n",
       "   'other': 0.0,\n",
       "   'series-a': 2700000.0,\n",
       "   'series-b': 7500000.0,\n",
       "   'series-c+': 0.0,\n",
       "   'venture': 500000000.0}},\n",
       " 'Ruchi Sanghvi': {'company': 'Facebook',\n",
       "  'company_id': 'c:5',\n",
       "  'degree': 'MA',\n",
       "  'id': 'p:10430',\n",
       "  'majors': 'Electrical Computer Engineering',\n",
       "  'school': 'Carnegie Mellon University',\n",
       "  'venture_round': {'angel': 0.0,\n",
       "   'other': 0.0,\n",
       "   'series-a': 2700000.0,\n",
       "   'series-b': 7500000.0,\n",
       "   'series-c+': 0.0,\n",
       "   'venture': 500000000.0}},\n",
       " 'Sandra Liu Huang': {'company': 'Facebook',\n",
       "  'company_id': 'c:5',\n",
       "  'degree': 'BS',\n",
       "  'id': 'p:15296',\n",
       "  'majors': 'Computer Science',\n",
       "  'school': 'Stanford University',\n",
       "  'venture_round': {'angel': 0.0,\n",
       "   'other': 0.0,\n",
       "   'series-a': 2700000.0,\n",
       "   'series-b': 7500000.0,\n",
       "   'series-c+': 0.0,\n",
       "   'venture': 500000000.0}},\n",
       " 'Soleio Cuervo': {'company': 'Facebook',\n",
       "  'company_id': 'c:5',\n",
       "  'degree': 'BA',\n",
       "  'id': 'p:58330',\n",
       "  'majors': 'Music Composition',\n",
       "  'school': 'Duke University',\n",
       "  'venture_round': {'angel': 0.0,\n",
       "   'other': 0.0,\n",
       "   'series-a': 2700000.0,\n",
       "   'series-b': 7500000.0,\n",
       "   'series-c+': 0.0,\n",
       "   'venture': 500000000.0}},\n",
       " 'Susana Montes': {'company': 'Facebook',\n",
       "  'company_id': 'c:5',\n",
       "  'degree': 'MA',\n",
       "  'id': 'p:184604',\n",
       "  'majors': 'Communications/Media Studies',\n",
       "  'school': 'Stanford University',\n",
       "  'venture_round': {'angel': 0.0,\n",
       "   'other': 0.0,\n",
       "   'series-a': 2700000.0,\n",
       "   'series-b': 7500000.0,\n",
       "   'series-c+': 0.0,\n",
       "   'venture': 500000000.0}},\n",
       " 'Taner Halicioglu': {'company': 'Facebook',\n",
       "  'company_id': 'c:5',\n",
       "  'degree': 'BS',\n",
       "  'id': 'p:165345',\n",
       "  'majors': 'Computer Science',\n",
       "  'school': 'University of California, San Diego (UCSD)',\n",
       "  'venture_round': {'angel': 0.0,\n",
       "   'other': 0.0,\n",
       "   'series-a': 2700000.0,\n",
       "   'series-b': 7500000.0,\n",
       "   'series-c+': 0.0,\n",
       "   'venture': 500000000.0}},\n",
       " 'Ted Ullyot': {'company': 'Facebook',\n",
       "  'company_id': 'c:5',\n",
       "  'degree': 'BA',\n",
       "  'id': 'p:63380',\n",
       "  'majors': '',\n",
       "  'school': 'Harvard University',\n",
       "  'venture_round': {'angel': 0.0,\n",
       "   'other': 0.0,\n",
       "   'series-a': 2700000.0,\n",
       "   'series-b': 7500000.0,\n",
       "   'series-c+': 0.0,\n",
       "   'venture': 500000000.0}},\n",
       " 'Tim Kendall': {'company': 'Facebook',\n",
       "  'company_id': 'c:5',\n",
       "  'degree': 'Industrial Engineering',\n",
       "  'id': 'p:15298',\n",
       "  'majors': '',\n",
       "  'school': 'Stanford University',\n",
       "  'venture_round': {'angel': 0.0,\n",
       "   'other': 0.0,\n",
       "   'series-a': 2700000.0,\n",
       "   'series-b': 7500000.0,\n",
       "   'series-c+': 0.0,\n",
       "   'venture': 500000000.0}},\n",
       " 'Vaughan Smith': {'company': 'Facebook',\n",
       "  'company_id': 'c:5',\n",
       "  'degree': [],\n",
       "  'id': 'p:85799',\n",
       "  'majors': [],\n",
       "  'school': [],\n",
       "  'venture_round': {'angel': 0.0,\n",
       "   'other': 0.0,\n",
       "   'series-a': 2700000.0,\n",
       "   'series-b': 7500000.0,\n",
       "   'series-c+': 0.0,\n",
       "   'venture': 500000000.0}},\n",
       " 'Yann LeCun': {'company': 'Facebook',\n",
       "  'company_id': 'c:5',\n",
       "  'degree': '',\n",
       "  'id': 'p:267327',\n",
       "  'majors': 'Electrical Engineering',\n",
       "  'school': 'ESIEE',\n",
       "  'venture_round': {'angel': 0.0,\n",
       "   'other': 0.0,\n",
       "   'series-a': 2700000.0,\n",
       "   'series-b': 7500000.0,\n",
       "   'series-c+': 0.0,\n",
       "   'venture': 500000000.0}},\n",
       " 'bill fumerola': {'company': 'Facebook',\n",
       "  'company_id': 'c:5',\n",
       "  'degree': [],\n",
       "  'id': 'p:67599',\n",
       "  'majors': [],\n",
       "  'school': [],\n",
       "  'venture_round': {'angel': 0.0,\n",
       "   'other': 0.0,\n",
       "   'series-a': 2700000.0,\n",
       "   'series-b': 7500000.0,\n",
       "   'series-c+': 0.0,\n",
       "   'venture': 500000000.0}}}"
      ]
     },
     "execution_count": 24,
     "metadata": {},
     "output_type": "execute_result"
    }
   ],
   "source": [
    "company_founders['Facebook']"
   ]
  },
  {
   "cell_type": "code",
   "execution_count": 25,
   "metadata": {
    "collapsed": true,
    "deletable": true,
    "editable": true
   },
   "outputs": [],
   "source": [
    "unique_degrees = {}\n",
    "for founder in founders:\n",
    "    try:\n",
    "        degree = founders[founder]['degree']\n",
    "        if degree in unique_degrees:\n",
    "            unique_degrees[degree] += 1\n",
    "        else:\n",
    "            unique_degrees[degree] = 1\n",
    "    except:\n",
    "        continue"
   ]
  },
  {
   "cell_type": "code",
   "execution_count": 26,
   "metadata": {
    "collapsed": true,
    "deletable": true,
    "editable": true
   },
   "outputs": [],
   "source": [
    "top_degrees = ['BA', 'BS', 'MBA', 'MS', 'PhD', 'BBA', 'JD', 'MA', 'BE']"
   ]
  },
  {
   "cell_type": "code",
   "execution_count": 27,
   "metadata": {
    "collapsed": true,
    "deletable": true,
    "editable": true
   },
   "outputs": [],
   "source": [
    "unique_majors = {}\n",
    "for founder in founders:\n",
    "    try:\n",
    "        majors = founders[founder]['majors']\n",
    "        if majors in unique_majors:\n",
    "            unique_majors[majors] += 1\n",
    "        else:\n",
    "            unique_majors[majors] = 1\n",
    "    except:\n",
    "        continue"
   ]
  },
  {
   "cell_type": "code",
   "execution_count": 28,
   "metadata": {
    "collapsed": true,
    "deletable": true,
    "editable": true,
    "scrolled": true
   },
   "outputs": [],
   "source": [
    "top_majors = [x[0] for x in list(sorted(unique_majors.items(), key=lambda x: x[1], reverse=True)[1:100]) \\\n",
    "     if x[0] not in top_degrees and x[0] != 'Degree']"
   ]
  },
  {
   "cell_type": "code",
   "execution_count": 29,
   "metadata": {
    "collapsed": false,
    "deletable": true,
    "editable": true,
    "scrolled": true
   },
   "outputs": [
    {
     "data": {
      "text/plain": [
       "['Computer Science',\n",
       " 'Economics',\n",
       " 'Electrical Engineering',\n",
       " 'Business Administration',\n",
       " 'Finance',\n",
       " 'Accounting',\n",
       " 'Mechanical Engineering',\n",
       " 'Marketing',\n",
       " 'Business',\n",
       " 'Law',\n",
       " 'Computer Engineering',\n",
       " 'Engineering',\n",
       " 'Political Science',\n",
       " 'Physics',\n",
       " 'Mathematics',\n",
       " 'Psychology',\n",
       " 'Management',\n",
       " 'Chemistry',\n",
       " 'History',\n",
       " 'English',\n",
       " 'Chemical Engineering',\n",
       " 'Biology',\n",
       " 'Industrial Engineering',\n",
       " 'Business Management',\n",
       " 'Information Technology',\n",
       " 'Communications',\n",
       " 'International Business',\n",
       " 'Philosophy',\n",
       " 'Journalism',\n",
       " 'Biochemistry',\n",
       " 'Entrepreneurship',\n",
       " 'Software Engineering',\n",
       " 'Civil Engineering',\n",
       " 'Information Systems',\n",
       " 'Graphic Design',\n",
       " 'Sociology',\n",
       " 'Commerce',\n",
       " 'International Relations',\n",
       " 'Computer Science and Engineering',\n",
       " 'English Literature',\n",
       " 'Electrical Engineering and Computer Science',\n",
       " 'Electrical and Computer Engineering',\n",
       " 'Electronic Engineering',\n",
       " 'Medicine',\n",
       " 'Computer Information Systems',\n",
       " 'Management Information Systems',\n",
       " 'Accounting and Finance',\n",
       " 'Communication',\n",
       " 'Advertising',\n",
       " 'Applied Mathematics',\n",
       " 'Business Economics',\n",
       " 'Architecture',\n",
       " 'Government',\n",
       " 'Aerospace Engineering',\n",
       " 'Biomedical Engineering',\n",
       " 'Computer Sciences',\n",
       " 'Accountancy',\n",
       " 'Molecular Biology',\n",
       " 'Electronics',\n",
       " 'Computer Science & Engineering',\n",
       " 'IT',\n",
       " 'Mathematics and Computer Science',\n",
       " 'Science',\n",
       " 'Industrial Design',\n",
       " 'Electronics Engineering',\n",
       " 'Microbiology',\n",
       " 'Electrical and Electronics Engineering',\n",
       " 'Geography',\n",
       " 'Finance and Marketing',\n",
       " 'Management Science',\n",
       " 'computer science',\n",
       " 'Electrical Engineering & Computer Science',\n",
       " 'Systems Engineering',\n",
       " 'Music',\n",
       " 'Liberal Arts',\n",
       " 'Business Administration and Management, General',\n",
       " 'EE',\n",
       " 'Finance and Accounting',\n",
       " 'Public Policy',\n",
       " 'Business Studies',\n",
       " 'Telecommunications',\n",
       " 'Applied Physics',\n",
       " 'EECS',\n",
       " 'General Management',\n",
       " 'Engineering Physics',\n",
       " 'International Management',\n",
       " 'CS',\n",
       " 'Engineering Management',\n",
       " 'Education',\n",
       " 'Design',\n",
       " 'Mass Communications',\n",
       " 'Computer science',\n",
       " 'International Studies',\n",
       " 'Statistics',\n",
       " 'Finance, General',\n",
       " 'Organic Chemistry']"
      ]
     },
     "execution_count": 29,
     "metadata": {},
     "output_type": "execute_result"
    }
   ],
   "source": [
    "top_majors"
   ]
  },
  {
   "cell_type": "code",
   "execution_count": 30,
   "metadata": {
    "collapsed": true,
    "deletable": true,
    "editable": true
   },
   "outputs": [],
   "source": [
    "universities_count = {}\n",
    "for i in range(len(degrees)):\n",
    "    if degrees[i][4] not in universities_count:\n",
    "        universities_count[degrees[i][4]] = 1\n",
    "    else:\n",
    "        universities_count[degrees[i][4]] += 1"
   ]
  },
  {
   "cell_type": "code",
   "execution_count": 31,
   "metadata": {
    "collapsed": true,
    "deletable": true,
    "editable": true,
    "scrolled": true
   },
   "outputs": [],
   "source": [
    "unique_universities = list(sorted(universities_count.items(), key=lambda x: x[1], reverse=True))\n",
    "top_universities = []\n",
    "for school, count in unique_universities:\n",
    "    if count >= 10:\n",
    "        top_universities.append(school)"
   ]
  },
  {
   "cell_type": "code",
   "execution_count": 32,
   "metadata": {
    "collapsed": false,
    "deletable": true,
    "editable": true,
    "scrolled": true
   },
   "outputs": [
    {
     "data": {
      "text/plain": [
       "1307"
      ]
     },
     "execution_count": 32,
     "metadata": {},
     "output_type": "execute_result"
    }
   ],
   "source": [
    "len(top_universities)"
   ]
  },
  {
   "cell_type": "code",
   "execution_count": 33,
   "metadata": {
    "collapsed": true,
    "deletable": true,
    "editable": true
   },
   "outputs": [],
   "source": [
    "baseline_founders = {}\n",
    "for founder in founders:\n",
    "    try:\n",
    "        degree = founders[founder]['degree']\n",
    "        if degree in top_degrees:\n",
    "            school = founders[founder]['school']\n",
    "            if school in top_universities:\n",
    "                if founders[founder]['venture_round'] != []:\n",
    "                    if founders[founder]['company'] != '\"Unaffiliated\"':\n",
    "                        baseline_founders[founder] = founders[founder]\n",
    "    except:\n",
    "        pass"
   ]
  },
  {
   "cell_type": "code",
   "execution_count": 34,
   "metadata": {
    "collapsed": false,
    "deletable": true,
    "editable": true,
    "scrolled": true
   },
   "outputs": [
    {
     "data": {
      "text/plain": [
       "3782"
      ]
     },
     "execution_count": 34,
     "metadata": {},
     "output_type": "execute_result"
    }
   ],
   "source": [
    "len(baseline_founders)"
   ]
  },
  {
   "cell_type": "code",
   "execution_count": 35,
   "metadata": {
    "collapsed": true,
    "deletable": true,
    "editable": true
   },
   "outputs": [],
   "source": [
    "baseline_companies = []\n",
    "for founder in baseline_founders:\n",
    "    company = baseline_founders[founder]['company']\n",
    "    if company not in baseline_companies:\n",
    "        baseline_companies.append(company)"
   ]
  },
  {
   "cell_type": "code",
   "execution_count": 36,
   "metadata": {
    "collapsed": false,
    "deletable": true,
    "editable": true
   },
   "outputs": [
    {
     "data": {
      "text/plain": [
       "2528"
      ]
     },
     "execution_count": 36,
     "metadata": {},
     "output_type": "execute_result"
    }
   ],
   "source": [
    "len(baseline_companies)"
   ]
  },
  {
   "cell_type": "code",
   "execution_count": 52,
   "metadata": {
    "collapsed": true,
    "deletable": true,
    "editable": true
   },
   "outputs": [],
   "source": [
    "degree_features = np.zeros(len(top_majors))\n",
    "schools_features = np.zeros(len(top_universities))"
   ]
  },
  {
   "cell_type": "code",
   "execution_count": 38,
   "metadata": {
    "collapsed": true,
    "deletable": true,
    "editable": true
   },
   "outputs": [],
   "source": [
    "featurized_data = []\n",
    "labels = []\n",
    "\n",
    "for founder in baseline_founders:\n",
    "    degree = list(top_degrees).index(baseline_founders[founder]['degree'])\n",
    "\n",
    "    school = list(top_universities).index(baseline_founders[founder]['school'])\n",
    "\n",
    "    funding = 0.\n",
    "    for round_id in baseline_founders[founder]['venture_round']:\n",
    "        funding += baseline_founders[founder]['venture_round'][round_id]\n",
    "\n",
    "    labels.append(funding)\n",
    "    featurized_data.append([degree,school])"
   ]
  },
  {
   "cell_type": "code",
   "execution_count": 39,
   "metadata": {
    "collapsed": true,
    "deletable": true,
    "editable": true
   },
   "outputs": [],
   "source": [
    "for i in range(len(labels)):\n",
    "    if labels[i] == 0.:\n",
    "        labels[i] = 0\n",
    "    elif labels[i] <= np.mean(labels)/2.and labels[i] > 0:\n",
    "        labels[i] = 1\n",
    "    elif labels[i] <= np.mean(labels) and labels[i] > np.mean(labels)/2.:\n",
    "        labels[i] = 2\n",
    "    elif labels[i] <= (3/2)*np.mean(labels) and labels[i] > np.mean(labels):\n",
    "        labels[i] = 3\n",
    "    else:\n",
    "        labels[i] = 4"
   ]
  },
  {
   "cell_type": "code",
   "execution_count": 40,
   "metadata": {
    "collapsed": true,
    "deletable": true,
    "editable": true,
    "scrolled": true
   },
   "outputs": [],
   "source": [
    "featurized_data = np.array(featurized_data)\n",
    "labels = np.array(labels)"
   ]
  },
  {
   "cell_type": "code",
   "execution_count": 41,
   "metadata": {
    "collapsed": true,
    "deletable": true,
    "editable": true
   },
   "outputs": [],
   "source": [
    "shuffled_indices = np.arange(0,len(labels))\n",
    "np.random.shuffle(shuffled_indices)"
   ]
  },
  {
   "cell_type": "code",
   "execution_count": 42,
   "metadata": {
    "collapsed": true,
    "deletable": true,
    "editable": true
   },
   "outputs": [],
   "source": [
    "train_data = np.array([featurized_data[i] for i in shuffled_indices[:int(len(shuffled_indices)*0.8)]])\n",
    "test_data = np.array([featurized_data[i] for i in shuffled_indices[int(len(shuffled_indices)*0.8):]])\n",
    "\n",
    "train_labels = np.array([labels[i] for i in shuffled_indices[:int(len(shuffled_indices)*0.8)]])\n",
    "test_labels = np.array([labels[i] for i in shuffled_indices[int(len(shuffled_indices)*0.8):]])"
   ]
  },
  {
   "cell_type": "code",
   "execution_count": 49,
   "metadata": {
    "collapsed": false,
    "deletable": true,
    "editable": true,
    "scrolled": true
   },
   "outputs": [
    {
     "data": {
      "text/plain": [
       "0.3474240422721268"
      ]
     },
     "execution_count": 49,
     "metadata": {},
     "output_type": "execute_result"
    }
   ],
   "source": [
    "lr = LogisticRegression()\n",
    "lr.fit(train_data, train_labels).score(test_data, test_labels)"
   ]
  },
  {
   "cell_type": "code",
   "execution_count": 50,
   "metadata": {
    "collapsed": false,
    "deletable": true,
    "editable": true
   },
   "outputs": [
    {
     "data": {
      "text/plain": [
       "array([2, 1, 2, 1, 1, 4, 1, 0, 3, 1, 0, 3, 3, 4, 1, 0, 1, 3, 4, 0, 1, 3,\n",
       "       2, 0, 1, 3, 0, 4, 4, 4, 4, 1, 1, 4, 0, 1, 0, 1, 1, 0, 2, 2, 0, 1,\n",
       "       4, 4, 1, 1, 4, 1, 0, 4, 1, 4, 1, 3, 1, 0, 4, 0, 1, 0, 4, 0, 0, 4,\n",
       "       4, 0, 4, 1, 1, 0, 2, 1, 1, 1, 4, 1, 4, 1, 0, 4, 0, 1, 3, 4, 0, 0,\n",
       "       0, 0, 0, 4, 0, 0, 4, 0, 1, 0, 3, 1, 0, 4, 0, 4, 0, 0, 4, 4, 1, 1,\n",
       "       4, 0, 0, 1, 0, 4, 4, 0, 4, 0, 0, 4, 4, 0, 0, 0, 4, 4, 0, 0, 1, 1,\n",
       "       4, 3, 1, 0, 0, 1, 0, 0, 0, 1, 0, 1, 1, 1, 3, 0, 1, 1, 0, 1, 4, 0,\n",
       "       0, 1, 0, 1, 1, 0, 0, 0, 4, 1, 1, 1, 1, 0, 0, 2, 2, 1, 0, 4, 0, 4,\n",
       "       0, 0, 2, 0, 1, 1, 1, 1, 3, 4, 0, 2, 4, 1, 0, 1, 2, 1, 0, 3, 3, 1,\n",
       "       0, 0, 1, 0, 1, 1, 0, 2, 4, 1, 0, 1, 1, 2, 0, 0, 4, 1, 0, 4, 1, 1,\n",
       "       2, 1, 4, 0, 4, 4, 0, 4, 1, 0, 1, 1, 4, 1, 1, 3, 0, 0, 1, 1, 1, 0,\n",
       "       1, 1, 1, 1, 0, 1, 4, 1, 1, 1, 0, 4, 1, 1, 4, 3, 0, 0, 0, 2, 1, 4,\n",
       "       1, 1, 0, 0, 1, 4, 1, 1, 1, 3, 1, 1, 0, 1, 1, 1, 4, 1, 1, 0, 0, 4,\n",
       "       1, 3, 0, 0, 1, 0, 0, 2, 2, 0, 0, 1, 0, 0, 0, 4, 1, 0, 2, 0, 1, 1,\n",
       "       1, 0, 1, 2, 0, 1, 1, 1, 1, 1, 3, 2, 2, 4, 1, 0, 1, 4, 2, 0, 4, 0,\n",
       "       4, 4, 1, 1, 0, 4, 2, 3, 0, 1, 2, 4, 1, 4, 4, 0, 0, 4, 0, 1, 0, 4,\n",
       "       0, 0, 0, 1, 3, 4, 1, 0, 1, 3, 1, 1, 1, 4, 1, 0, 4, 0, 0, 0, 1, 2,\n",
       "       1, 1, 0, 0, 1, 0, 4, 4, 0, 1, 1, 1, 4, 0, 1, 4, 0, 0, 1, 1, 0, 1,\n",
       "       3, 1, 4, 3, 1, 0, 4, 1, 0, 0, 4, 2, 0, 1, 2, 0, 3, 4, 4, 0, 0, 4,\n",
       "       4, 0, 0, 1, 1, 0, 1, 4, 2, 1, 3, 4, 4, 4, 4, 4, 1, 3, 0, 2, 0, 0,\n",
       "       4, 4, 0, 1, 1, 0, 1, 0, 4, 4, 1, 1, 0, 2, 0, 1, 0, 3, 1, 1, 4, 1,\n",
       "       1, 1, 0, 0, 0, 4, 1, 4, 1, 4, 3, 0, 0, 0, 2, 1, 1, 2, 0, 1, 4, 1,\n",
       "       1, 1, 0, 4, 0, 1, 2, 4, 1, 1, 0, 0, 1, 0, 0, 2, 1, 1, 0, 3, 1, 1,\n",
       "       1, 0, 1, 2, 3, 0, 0, 0, 1, 0, 1, 0, 0, 3, 4, 4, 2, 4, 0, 1, 1, 3,\n",
       "       0, 0, 0, 2, 4, 1, 4, 1, 1, 3, 1, 2, 1, 0, 0, 3, 2, 4, 0, 0, 4, 0,\n",
       "       3, 1, 0, 0, 2, 4, 1, 0, 2, 4, 1, 1, 1, 1, 1, 1, 1, 1, 2, 0, 3, 0,\n",
       "       0, 4, 4, 4, 0, 2, 0, 1, 1, 2, 4, 0, 0, 1, 1, 0, 1, 0, 3, 2, 4, 1,\n",
       "       0, 0, 0, 4, 1, 4, 4, 0, 2, 2, 0, 1, 4, 0, 1, 1, 4, 1, 1, 1, 4, 0,\n",
       "       4, 2, 0, 1, 4, 2, 0, 0, 4, 2, 1, 2, 1, 0, 0, 1, 4, 0, 1, 0, 0, 1,\n",
       "       0, 4, 4, 0, 1, 1, 0, 2, 1, 0, 0, 2, 1, 1, 0, 1, 1, 0, 1, 1, 0, 0,\n",
       "       0, 2, 3, 2, 2, 1, 1, 1, 4, 0, 1, 0, 4, 1, 0, 1, 4, 1, 0, 4, 4, 0,\n",
       "       1, 4, 0, 4, 0, 1, 3, 4, 1, 2, 4, 4, 4, 2, 4, 1, 0, 1, 1, 1, 4, 3,\n",
       "       0, 0, 4, 1, 1, 0, 1, 1, 0, 1, 3, 2, 4, 0, 0, 1, 2, 1, 0, 2, 0, 1,\n",
       "       3, 2, 1, 1, 0, 1, 0, 1, 4, 1, 1, 4, 4, 1, 4, 0, 0, 1, 0, 1, 4, 1,\n",
       "       3, 1, 3, 1, 0, 0, 0, 1, 1])"
      ]
     },
     "execution_count": 50,
     "metadata": {},
     "output_type": "execute_result"
    }
   ],
   "source": [
    "test_labels"
   ]
  },
  {
   "cell_type": "code",
   "execution_count": 53,
   "metadata": {
    "collapsed": false,
    "deletable": true,
    "editable": true,
    "scrolled": true
   },
   "outputs": [
    {
     "data": {
      "image/png": "[encoded data removed]",
      "text/plain": [
       "<matplotlib.figure.Figure at 0x150beada0>"
      ]
     },
     "metadata": {},
     "output_type": "display_data"
    }
   ],
   "source": [
    "plt.plot(sorted(labels))\n",
    "plt.show()"
   ]
  },
  {
   "cell_type": "code",
   "execution_count": null,
   "metadata": {
    "collapsed": true,
    "deletable": true,
    "editable": true
   },
   "outputs": [],
   "source": []
  }
 ],
 "metadata": {
  "kernelspec": {
   "display_name": "Python 3",
   "language": "python",
   "name": "python3"
  },
  "language_info": {
   "codemirror_mode": {
    "name": "ipython",
    "version": 3
   },
   "file_extension": ".py",
   "mimetype": "text/x-python",
   "name": "python",
   "nbconvert_exporter": "python",
   "pygments_lexer": "ipython3",
   "version": "3.6.0"
  }
 },
 "nbformat": 4,
 "nbformat_minor": 2
}
